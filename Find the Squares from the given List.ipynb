{
 "cells": [
  {
   "cell_type": "markdown",
   "id": "0744c500",
   "metadata": {},
   "source": [
    "## Write a Python program to square the elements of a list using map() function.\n",
    "\n",
    "\n",
    "\n",
    "Sample List: [4, 5, 2, 9]\n",
    "\n",
    "Square the elements of the list:\n",
    "\n",
    "[16, 25, 4, 81]"
   ]
  },
  {
   "cell_type": "markdown",
   "id": "55534654",
   "metadata": {},
   "source": [
    "# Method 1"
   ]
  },
  {
   "cell_type": "code",
   "execution_count": 1,
   "id": "6319490f",
   "metadata": {},
   "outputs": [
    {
     "name": "stdout",
     "output_type": "stream",
     "text": [
      "Square the element of the list:\n",
      " [16, 25, 4, 81]\n"
     ]
    }
   ],
   "source": [
    "sample_list=[4,5,2,9]\n",
    "f=map(lambda a:a**2,sample_list)\n",
    "print(\"Square the element of the list:\\n\",list(f))"
   ]
  },
  {
   "cell_type": "markdown",
   "id": "a9a298ee",
   "metadata": {},
   "source": [
    "# Method 2"
   ]
  },
  {
   "cell_type": "code",
   "execution_count": 2,
   "id": "eeb6b194",
   "metadata": {},
   "outputs": [
    {
     "name": "stdout",
     "output_type": "stream",
     "text": [
      "Square the element of the list:\n",
      " [16, 25, 4, 81]\n"
     ]
    }
   ],
   "source": [
    "def square(n):\n",
    "    return n*n\n",
    "num=[4,5,2,9]\n",
    "fun=map(square,num)\n",
    "print(\"Square the element of the list:\\n\",list(fun))"
   ]
  },
  {
   "cell_type": "code",
   "execution_count": null,
   "id": "458d1463",
   "metadata": {},
   "outputs": [],
   "source": []
  }
 ],
 "metadata": {
  "kernelspec": {
   "display_name": "Python 3 (ipykernel)",
   "language": "python",
   "name": "python3"
  },
  "language_info": {
   "codemirror_mode": {
    "name": "ipython",
    "version": 3
   },
   "file_extension": ".py",
   "mimetype": "text/x-python",
   "name": "python",
   "nbconvert_exporter": "python",
   "pygments_lexer": "ipython3",
   "version": "3.10.1"
  }
 },
 "nbformat": 4,
 "nbformat_minor": 5
}
