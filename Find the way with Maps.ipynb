{
 "cells": [
  {
   "cell_type": "markdown",
   "id": "ca8a11b7",
   "metadata": {},
   "source": [
    "### Write a Python program to triple all numbers of a given list of integers. Use Python map.\n",
    "\n",
    "\n",
    "\n",
    "sample list: [1, 2, 3, 4, 5, 6, 7]\n",
    "\n",
    "\n",
    "\n",
    "Triple of list numbers:\n",
    "\n",
    "[3, 6, 9, 12, 15, 18, 21]\n",
    "\n"
   ]
  },
  {
   "cell_type": "markdown",
   "id": "303c6ce3",
   "metadata": {},
   "source": [
    "### Method 1 "
   ]
  },
  {
   "cell_type": "code",
   "execution_count": 12,
   "id": "a0202469",
   "metadata": {},
   "outputs": [
    {
     "name": "stdout",
     "output_type": "stream",
     "text": [
      "Triple of list numbers:\n",
      " [3, 6, 9, 12, 15, 18, 21]\n"
     ]
    }
   ],
   "source": [
    "sample_list = [1,2,3,4,5,6,7]\n",
    "f= map(lambda a : a*3,sample_list)\n",
    "print(\"Triple of list numbers:\\n\",list(f))"
   ]
  },
  {
   "cell_type": "markdown",
   "id": "0897f873",
   "metadata": {},
   "source": [
    "# "
   ]
  }
 ],
 "metadata": {
  "kernelspec": {
   "display_name": "Python 3 (ipykernel)",
   "language": "python",
   "name": "python3"
  },
  "language_info": {
   "codemirror_mode": {
    "name": "ipython",
    "version": 3
   },
   "file_extension": ".py",
   "mimetype": "text/x-python",
   "name": "python",
   "nbconvert_exporter": "python",
   "pygments_lexer": "ipython3",
   "version": "3.10.1"
  }
 },
 "nbformat": 4,
 "nbformat_minor": 5
}
