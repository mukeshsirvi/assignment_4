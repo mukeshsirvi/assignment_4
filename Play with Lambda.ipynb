{
 "cells": [
  {
   "cell_type": "markdown",
   "id": "429be5bf",
   "metadata": {},
   "source": [
    "###  Write a Python program to create a lambda function that adds 25 to a given number passed in as an argument.\n",
    "\n",
    "\n",
    "\n",
    "sample input: 10\n",
    "\n",
    "sample output: 35\n",
    "\n"
   ]
  },
  {
   "cell_type": "code",
   "execution_count": 1,
   "id": "7f799b9e",
   "metadata": {},
   "outputs": [
    {
     "name": "stdout",
     "output_type": "stream",
     "text": [
      "sample input: 47\n",
      "sample output: 72\n"
     ]
    }
   ],
   "source": [
    "n=int(input(\"sample input: \"))\n",
    "f=lambda n:n+25\n",
    "print(\"sample output:\",f(n))"
   ]
  },
  {
   "cell_type": "code",
   "execution_count": null,
   "id": "b240328f",
   "metadata": {},
   "outputs": [],
   "source": []
  }
 ],
 "metadata": {
  "kernelspec": {
   "display_name": "Python 3 (ipykernel)",
   "language": "python",
   "name": "python3"
  },
  "language_info": {
   "codemirror_mode": {
    "name": "ipython",
    "version": 3
   },
   "file_extension": ".py",
   "mimetype": "text/x-python",
   "name": "python",
   "nbconvert_exporter": "python",
   "pygments_lexer": "ipython3",
   "version": "3.10.1"
  }
 },
 "nbformat": 4,
 "nbformat_minor": 5
}
